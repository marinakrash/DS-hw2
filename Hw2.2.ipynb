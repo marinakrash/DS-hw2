{
  "nbformat": 4,
  "nbformat_minor": 0,
  "metadata": {
    "colab": {
      "provenance": []
    },
    "kernelspec": {
      "name": "python3",
      "display_name": "Python 3"
    },
    "language_info": {
      "name": "python"
    }
  },
  "cells": [
    {
      "cell_type": "markdown",
      "source": [
        "Прочитайте файл 2017_jun_final.csv за допомогою методу read_csv\n"
      ],
      "metadata": {
        "id": "D7xW5sRhPcEa"
      }
    },
    {
      "cell_type": "code",
      "execution_count": 1,
      "metadata": {
        "id": "EjBWcRfxOe6f"
      },
      "outputs": [],
      "source": [
        "import pandas as pd\n",
        "\n",
        "tab = pd.read_csv(\"2017_jun_final.csv\")\n"
      ]
    },
    {
      "cell_type": "markdown",
      "source": [
        "Прочитайте отриману таблицю, використовуючи метод head"
      ],
      "metadata": {
        "id": "enB3cSY1PeBu"
      }
    },
    {
      "cell_type": "code",
      "source": [
        "print(tab.head())"
      ],
      "metadata": {
        "colab": {
          "base_uri": "https://localhost:8080/"
        },
        "id": "XbDtKHvMPeMm",
        "outputId": "d7457e86-0101-49d9-cf24-5497b071f6e4"
      },
      "execution_count": 2,
      "outputs": [
        {
          "output_type": "stream",
          "name": "stdout",
          "text": [
            "   N                 Должность Язык.программирования Специализация  \\\n",
            "0  1        Junior QA engineer                   NaN     Manual QA   \n",
            "1  2        Junior QA engineer                   NaN     Manual QA   \n",
            "2  3         Software Engineer               C#/.NET           NaN   \n",
            "3  4         Software Engineer            JavaScript           NaN   \n",
            "4  5  Senior Software Engineer            JavaScript           NaN   \n",
            "\n",
            "  Общий.опыт.работы Опыт.работы.на.текущем.месте  Зарплата.в.месяц  \\\n",
            "0               0.5                          0.5               400   \n",
            "1  меньше 3 месяцев             меньше 3 месяцев               430   \n",
            "2                 4                            1              2500   \n",
            "3                 5                            4              2000   \n",
            "4    10 и более лет                          0.5              4500   \n",
            "\n",
            "   Изменение.зарплаты.за.12.месяцев    Город     Размер.компании  ...  \\\n",
            "0                                 0  Харьков       до 10 человек  ...   \n",
            "1                               130  Харьков  свыше 1000 человек  ...   \n",
            "2                               800     Киев     до 1000 человек  ...   \n",
            "3                               400   Одесса      до 200 человек  ...   \n",
            "4                               500   Другой       до 10 человек  ...   \n",
            "\n",
            "  Еще.студент Уровень.английского                    Предметная.область  \\\n",
            "0        True       ниже среднего                         iOS,eCommerce   \n",
            "1        True       выше среднего                        Веб-разработка   \n",
            "2       False             средний  Веб-разработка,Корпоративные системы   \n",
            "3       False       ниже среднего   Desktop Applications,Веб-разработка   \n",
            "4       False             средний   Desktop Applications,Веб-разработка   \n",
            "\n",
            "       Дата.заполнения                                         User.Agent  \\\n",
            "0  12/06/2017 12:38:08  Mozilla/5.0 (Windows NT 10.0; Win64; x64) Appl...   \n",
            "1  12/06/2017 12:42:51  Mozilla/5.0 (iPad; CPU OS 10_2_1 like Mac OS X...   \n",
            "2  12/06/2017 13:02:47  Mozilla/5.0 (Windows NT 10.0; Win64; x64) Appl...   \n",
            "3  12/06/2017 13:03:01  Mozilla/5.0 (Windows NT 6.1; Win64; x64) Apple...   \n",
            "4  12/06/2017 13:03:47  Mozilla/5.0 (iPhone; CPU iPhone OS 10_3_2 like...   \n",
            "\n",
            "    exp current_job_exp salary Валюта  cls  \n",
            "0   0.5             0.5    400    NaN   QA  \n",
            "1   0.0             0.0    430    NaN   QA  \n",
            "2   4.0             1.0   2500    NaN  DEV  \n",
            "3   5.0             4.0   2000    NaN  DEV  \n",
            "4  10.0             0.5   4500    NaN  DEV  \n",
            "\n",
            "[5 rows x 25 columns]\n"
          ]
        }
      ]
    },
    {
      "cell_type": "markdown",
      "source": [
        "Визначте розмір таблиці за допомогою методу shape"
      ],
      "metadata": {
        "id": "IdOjgi2oPr9N"
      }
    },
    {
      "cell_type": "code",
      "source": [
        "tab.shape\n"
      ],
      "metadata": {
        "colab": {
          "base_uri": "https://localhost:8080/"
        },
        "id": "yapPXAcuPsID",
        "outputId": "533e81f4-eb57-4951-b7e0-f733f6988922"
      },
      "execution_count": 3,
      "outputs": [
        {
          "output_type": "execute_result",
          "data": {
            "text/plain": [
              "(8704, 25)"
            ]
          },
          "metadata": {},
          "execution_count": 3
        }
      ]
    },
    {
      "cell_type": "markdown",
      "source": [
        "Визначте типи всіх стовпців за допомогою dataframe.dtypes\n"
      ],
      "metadata": {
        "id": "37nECvT_Pvqv"
      }
    },
    {
      "cell_type": "code",
      "source": [
        "tab.dtypes"
      ],
      "metadata": {
        "colab": {
          "base_uri": "https://localhost:8080/"
        },
        "id": "wew9lKXFPv1V",
        "outputId": "8e5b626e-9dec-41b9-db85-da4dc44d77cb"
      },
      "execution_count": 4,
      "outputs": [
        {
          "output_type": "execute_result",
          "data": {
            "text/plain": [
              "N                                     int64\n",
              "Должность                            object\n",
              "Язык.программирования                object\n",
              "Специализация                        object\n",
              "Общий.опыт.работы                    object\n",
              "Опыт.работы.на.текущем.месте         object\n",
              "Зарплата.в.месяц                      int64\n",
              "Изменение.зарплаты.за.12.месяцев      int64\n",
              "Город                                object\n",
              "Размер.компании                      object\n",
              "Тип.компании                         object\n",
              "Пол                                  object\n",
              "Возраст                               int64\n",
              "Образование                          object\n",
              "Университет                          object\n",
              "Еще.студент                            bool\n",
              "Уровень.английского                  object\n",
              "Предметная.область                   object\n",
              "Дата.заполнения                      object\n",
              "User.Agent                           object\n",
              "exp                                 float64\n",
              "current_job_exp                     float64\n",
              "salary                                int64\n",
              "Валюта                               object\n",
              "cls                                  object\n",
              "dtype: object"
            ]
          },
          "metadata": {},
          "execution_count": 4
        }
      ]
    },
    {
      "cell_type": "markdown",
      "source": [
        "Порахуйте, яка частка пропусків міститься в кожній колонці (використовуйте методи isnull та sum)"
      ],
      "metadata": {
        "id": "A-7ee5J_Pv-k"
      }
    },
    {
      "cell_type": "code",
      "source": [
        "(tab.isnull().sum()/len(tab)) * 100"
      ],
      "metadata": {
        "colab": {
          "base_uri": "https://localhost:8080/"
        },
        "id": "MovQgo5RPwHs",
        "outputId": "d67b3e11-1a9f-4f1f-fe29-29f7a29313c9"
      },
      "execution_count": 5,
      "outputs": [
        {
          "output_type": "execute_result",
          "data": {
            "text/plain": [
              "N                                    0.000000\n",
              "Должность                            0.000000\n",
              "Язык.программирования               44.232537\n",
              "Специализация                       82.938879\n",
              "Общий.опыт.работы                    0.000000\n",
              "Опыт.работы.на.текущем.месте         0.000000\n",
              "Зарплата.в.месяц                     0.000000\n",
              "Изменение.зарплаты.за.12.месяцев     0.000000\n",
              "Город                                0.000000\n",
              "Размер.компании                      0.000000\n",
              "Тип.компании                         0.000000\n",
              "Пол                                  0.000000\n",
              "Возраст                              0.000000\n",
              "Образование                          0.000000\n",
              "Университет                          4.113051\n",
              "Еще.студент                          0.000000\n",
              "Уровень.английского                  0.000000\n",
              "Предметная.область                   2.562040\n",
              "Дата.заполнения                      0.000000\n",
              "User.Agent                           0.000000\n",
              "exp                                  0.000000\n",
              "current_job_exp                      0.000000\n",
              "salary                               0.000000\n",
              "Валюта                              99.885110\n",
              "cls                                 18.083640\n",
              "dtype: float64"
            ]
          },
          "metadata": {},
          "execution_count": 5
        }
      ]
    },
    {
      "cell_type": "markdown",
      "source": [
        "\n",
        "Видаліть усі стовпці з пропусками, крім стовпця \"Мова програмування\""
      ],
      "metadata": {
        "id": "oYxnw-twPwQ_"
      }
    },
    {
      "cell_type": "code",
      "source": [
        "columns = ['Язык.программирования'] + list(tab.dropna(axis=1, how='any').columns)\n",
        "tab_cleared = tab.loc[:, columns]\n",
        "print(tab_cleared)"
      ],
      "metadata": {
        "colab": {
          "base_uri": "https://localhost:8080/"
        },
        "id": "UrM4IpMzPwbM",
        "outputId": "153c4d92-0571-4331-fda3-585fae052c3b"
      },
      "execution_count": 23,
      "outputs": [
        {
          "output_type": "stream",
          "name": "stdout",
          "text": [
            "     Язык.программирования     N                 Должность Общий.опыт.работы  \\\n",
            "0                      NaN     1        Junior QA engineer               0.5   \n",
            "1                      NaN     2        Junior QA engineer  меньше 3 месяцев   \n",
            "2                  C#/.NET     3         Software Engineer                 4   \n",
            "3               JavaScript     4         Software Engineer                 5   \n",
            "4               JavaScript     5  Senior Software Engineer    10 и более лет   \n",
            "...                    ...   ...                       ...               ...   \n",
            "8699                   NaN  8700               QA engineer                 1   \n",
            "8700                   NaN  8701                 Marketing               0.5   \n",
            "8701            Ruby/Rails  8702  Junior Software Engineer                 1   \n",
            "8702                   NaN  8703                 Team lead                 6   \n",
            "8703                  Java  8704  Senior Software Engineer                 7   \n",
            "\n",
            "     Опыт.работы.на.текущем.месте  Зарплата.в.месяц  \\\n",
            "0                             0.5               400   \n",
            "1                меньше 3 месяцев               430   \n",
            "2                               1              2500   \n",
            "3                               4              2000   \n",
            "4                             0.5              4500   \n",
            "...                           ...               ...   \n",
            "8699             меньше 3 месяцев               700   \n",
            "8700                          0.5               400   \n",
            "8701                          0.5               800   \n",
            "8702                            4              2600   \n",
            "8703                            2              5000   \n",
            "\n",
            "      Изменение.зарплаты.за.12.месяцев    Город     Размер.компании  \\\n",
            "0                                    0  Харьков       до 10 человек   \n",
            "1                                  130  Харьков  свыше 1000 человек   \n",
            "2                                  800     Киев     до 1000 человек   \n",
            "3                                  400   Одесса      до 200 человек   \n",
            "4                                  500   Другой       до 10 человек   \n",
            "...                                ...      ...                 ...   \n",
            "8699                               700   Одесса       до 50 человек   \n",
            "8700                               120     Киев       до 50 человек   \n",
            "8701                               500    Львов       до 10 человек   \n",
            "8702                                 0    Днепр  свыше 1000 человек   \n",
            "8703                               800   Одесса     до 1000 человек   \n",
            "\n",
            "         Тип.компании      Пол  Возраст           Образование  Еще.студент  \\\n",
            "0      Аутсорсинговая  женский       20  Незаконченное высшее         True   \n",
            "1      Аутсорсинговая  женский       21  Незаконченное высшее         True   \n",
            "2      Аутсорсинговая  мужской       26                Высшее        False   \n",
            "3         Продуктовая  мужской       30               Среднее        False   \n",
            "4         Продуктовая  мужской       30    Техникум / Колледж        False   \n",
            "...               ...      ...      ...                   ...          ...   \n",
            "8699   Аутсорсинговая  мужской       23                Высшее        False   \n",
            "8700      Продуктовая  женский       22                Высшее        False   \n",
            "8701  Аутстаффинговая  мужской       30  Незаконченное высшее        False   \n",
            "8702   Аутсорсинговая  мужской       34                Высшее        False   \n",
            "8703      Продуктовая  мужской       28                Высшее        False   \n",
            "\n",
            "     Уровень.английского      Дата.заполнения  \\\n",
            "0          ниже среднего  12/06/2017 12:38:08   \n",
            "1          выше среднего  12/06/2017 12:42:51   \n",
            "2                средний  12/06/2017 13:02:47   \n",
            "3          ниже среднего  12/06/2017 13:03:01   \n",
            "4                средний  12/06/2017 13:03:47   \n",
            "...                  ...                  ...   \n",
            "8699             средний  12/07/2017 15:45:24   \n",
            "8700       ниже среднего  12/07/2017 17:00:06   \n",
            "8701       выше среднего  12/07/2017 17:32:26   \n",
            "8702         продвинутый  12/07/2017 18:14:59   \n",
            "8703       выше среднего  12/07/2017 21:28:57   \n",
            "\n",
            "                                             User.Agent   exp  \\\n",
            "0     Mozilla/5.0 (Windows NT 10.0; Win64; x64) Appl...   0.5   \n",
            "1     Mozilla/5.0 (iPad; CPU OS 10_2_1 like Mac OS X...   0.0   \n",
            "2     Mozilla/5.0 (Windows NT 10.0; Win64; x64) Appl...   4.0   \n",
            "3     Mozilla/5.0 (Windows NT 6.1; Win64; x64) Apple...   5.0   \n",
            "4     Mozilla/5.0 (iPhone; CPU iPhone OS 10_3_2 like...  10.0   \n",
            "...                                                 ...   ...   \n",
            "8699  Mozilla/5.0 (X11; Ubuntu; Linux x86_64; rv:54....   1.0   \n",
            "8700  Mozilla/5.0 (Windows NT 10.0; Win64; x64) Appl...   0.5   \n",
            "8701  Mozilla/5.0 (X11; Linux x86_64) AppleWebKit/53...   1.0   \n",
            "8702  Mozilla/5.0 (Windows NT 6.1) AppleWebKit/537.3...   6.0   \n",
            "8703  Mozilla/5.0 (iPad; CPU OS 10_3_2 like Mac OS X...   7.0   \n",
            "\n",
            "      current_job_exp  salary  \n",
            "0                 0.5     400  \n",
            "1                 0.0     430  \n",
            "2                 1.0    2500  \n",
            "3                 4.0    2000  \n",
            "4                 0.5    4500  \n",
            "...               ...     ...  \n",
            "8699              0.0     700  \n",
            "8700              0.5     400  \n",
            "8701              0.5     800  \n",
            "8702              4.0    2600  \n",
            "8703              2.0    5000  \n",
            "\n",
            "[8704 rows x 20 columns]\n"
          ]
        }
      ]
    },
    {
      "cell_type": "markdown",
      "source": [
        "Знову порахуйте, яка частка пропусків міститься в кожній колонці і переконайтеся, що залишився тільки стовпець \"Мова.програмування\""
      ],
      "metadata": {
        "id": "3l5WvejPPwk_"
      }
    },
    {
      "cell_type": "code",
      "source": [
        "(tab_cleared.isnull().sum()/len(tab)) * 100"
      ],
      "metadata": {
        "colab": {
          "base_uri": "https://localhost:8080/"
        },
        "id": "5Nm1jbFtPwum",
        "outputId": "e1d98597-9154-4918-f37f-091bad5f0457"
      },
      "execution_count": 24,
      "outputs": [
        {
          "output_type": "execute_result",
          "data": {
            "text/plain": [
              "Язык.программирования               44.232537\n",
              "N                                    0.000000\n",
              "Должность                            0.000000\n",
              "Общий.опыт.работы                    0.000000\n",
              "Опыт.работы.на.текущем.месте         0.000000\n",
              "Зарплата.в.месяц                     0.000000\n",
              "Изменение.зарплаты.за.12.месяцев     0.000000\n",
              "Город                                0.000000\n",
              "Размер.компании                      0.000000\n",
              "Тип.компании                         0.000000\n",
              "Пол                                  0.000000\n",
              "Возраст                              0.000000\n",
              "Образование                          0.000000\n",
              "Еще.студент                          0.000000\n",
              "Уровень.английского                  0.000000\n",
              "Дата.заполнения                      0.000000\n",
              "User.Agent                           0.000000\n",
              "exp                                  0.000000\n",
              "current_job_exp                      0.000000\n",
              "salary                               0.000000\n",
              "dtype: float64"
            ]
          },
          "metadata": {},
          "execution_count": 24
        }
      ]
    },
    {
      "cell_type": "markdown",
      "source": [
        "Видаліть усі рядки у вихідній таблиці за допомогою методу dropna"
      ],
      "metadata": {
        "id": "wWH3j3g7Pw4U"
      }
    },
    {
      "cell_type": "code",
      "source": [
        "tab_fin = tab_cleared.dropna()\n",
        "print(tab_fin.head)"
      ],
      "metadata": {
        "colab": {
          "base_uri": "https://localhost:8080/"
        },
        "id": "OwNslTMPPxC4",
        "outputId": "64ebf55e-6f75-47b6-af09-1584c9fbe58b"
      },
      "execution_count": 25,
      "outputs": [
        {
          "output_type": "stream",
          "name": "stdout",
          "text": [
            "<bound method NDFrame.head of      Язык.программирования     N                 Должность Общий.опыт.работы  \\\n",
            "2                  C#/.NET     3         Software Engineer                 4   \n",
            "3               JavaScript     4         Software Engineer                 5   \n",
            "4               JavaScript     5  Senior Software Engineer    10 и более лет   \n",
            "6                  C#/.NET     7  Junior Software Engineer                 1   \n",
            "7                      C++     8  Senior Software Engineer                 6   \n",
            "...                    ...   ...                       ...               ...   \n",
            "8692                  Java  8693         Software Engineer                 5   \n",
            "8694               C#/.NET  8695  Junior Software Engineer                 1   \n",
            "8695                Python  8696         Software Engineer                 1   \n",
            "8701            Ruby/Rails  8702  Junior Software Engineer                 1   \n",
            "8703                  Java  8704  Senior Software Engineer                 7   \n",
            "\n",
            "     Опыт.работы.на.текущем.месте  Зарплата.в.месяц  \\\n",
            "2                               1              2500   \n",
            "3                               4              2000   \n",
            "4                             0.5              4500   \n",
            "6                меньше 3 месяцев               600   \n",
            "7                               1              3300   \n",
            "...                           ...               ...   \n",
            "8692                            1              3500   \n",
            "8694                            1               550   \n",
            "8695                          0.5              1500   \n",
            "8701                          0.5               800   \n",
            "8703                            2              5000   \n",
            "\n",
            "      Изменение.зарплаты.за.12.месяцев        Город  Размер.компании  \\\n",
            "2                                  800         Киев  до 1000 человек   \n",
            "3                                  400       Одесса   до 200 человек   \n",
            "4                                  500       Другой    до 10 человек   \n",
            "6                                  100  Хмельницкий    до 50 человек   \n",
            "7                                  500         Киев    до 10 человек   \n",
            "...                                ...          ...              ...   \n",
            "8692                               650     Удаленно   до 200 человек   \n",
            "8694                               550      Харьков   до 200 человек   \n",
            "8695                              1000         Киев    до 10 человек   \n",
            "8701                               500        Львов    до 10 человек   \n",
            "8703                               800       Одесса  до 1000 человек   \n",
            "\n",
            "         Тип.компании      Пол  Возраст           Образование  Еще.студент  \\\n",
            "2      Аутсорсинговая  мужской       26                Высшее        False   \n",
            "3         Продуктовая  мужской       30               Среднее        False   \n",
            "4         Продуктовая  мужской       30    Техникум / Колледж        False   \n",
            "6      Аутсорсинговая  мужской       23                Высшее        False   \n",
            "7         Продуктовая  мужской       28                Высшее        False   \n",
            "...               ...      ...      ...                   ...          ...   \n",
            "8692   Аутсорсинговая  женский       28                Высшее        False   \n",
            "8694   Аутсорсинговая  мужской       23                Высшее        False   \n",
            "8695          Стартап  мужской       29                Высшее        False   \n",
            "8701  Аутстаффинговая  мужской       30  Незаконченное высшее        False   \n",
            "8703      Продуктовая  мужской       28                Высшее        False   \n",
            "\n",
            "     Уровень.английского      Дата.заполнения  \\\n",
            "2                средний  12/06/2017 13:02:47   \n",
            "3          ниже среднего  12/06/2017 13:03:01   \n",
            "4                средний  12/06/2017 13:03:47   \n",
            "6          ниже среднего  12/06/2017 13:04:26   \n",
            "7          выше среднего  12/06/2017 13:04:27   \n",
            "...                  ...                  ...   \n",
            "8692             средний  12/07/2017 13:26:49   \n",
            "8694       ниже среднего  12/07/2017 14:14:33   \n",
            "8695             средний  12/07/2017 14:39:21   \n",
            "8701       выше среднего  12/07/2017 17:32:26   \n",
            "8703       выше среднего  12/07/2017 21:28:57   \n",
            "\n",
            "                                             User.Agent   exp  \\\n",
            "2     Mozilla/5.0 (Windows NT 10.0; Win64; x64) Appl...   4.0   \n",
            "3     Mozilla/5.0 (Windows NT 6.1; Win64; x64) Apple...   5.0   \n",
            "4     Mozilla/5.0 (iPhone; CPU iPhone OS 10_3_2 like...  10.0   \n",
            "6     Mozilla/5.0 (Windows NT 10.0; Win64; x64) Appl...   1.0   \n",
            "7     Mozilla/5.0 (X11; Ubuntu; Linux x86_64; rv:53....   6.0   \n",
            "...                                                 ...   ...   \n",
            "8692  Mozilla/5.0 (Macintosh; Intel Mac OS X 10_12_5...   5.0   \n",
            "8694  Mozilla/5.0 (Windows NT 10.0; WOW64; rv:54.0) ...   1.0   \n",
            "8695  Mozilla/5.0 (X11; Linux x86_64) AppleWebKit/53...   1.0   \n",
            "8701  Mozilla/5.0 (X11; Linux x86_64) AppleWebKit/53...   1.0   \n",
            "8703  Mozilla/5.0 (iPad; CPU OS 10_3_2 like Mac OS X...   7.0   \n",
            "\n",
            "      current_job_exp  salary  \n",
            "2                 1.0    2500  \n",
            "3                 4.0    2000  \n",
            "4                 0.5    4500  \n",
            "6                 0.0     600  \n",
            "7                 1.0    3300  \n",
            "...               ...     ...  \n",
            "8692              1.0    3500  \n",
            "8694              1.0     550  \n",
            "8695              0.5    1500  \n",
            "8701              0.5     800  \n",
            "8703              2.0    5000  \n",
            "\n",
            "[4854 rows x 20 columns]>\n"
          ]
        }
      ]
    },
    {
      "cell_type": "markdown",
      "source": [
        "Визначте новий розмір таблиці за допомогою методу shape\n"
      ],
      "metadata": {
        "id": "skHT7EqiU7vA"
      }
    },
    {
      "cell_type": "code",
      "source": [
        "tab_fin.shape"
      ],
      "metadata": {
        "colab": {
          "base_uri": "https://localhost:8080/"
        },
        "id": "QtCcpk21U77N",
        "outputId": "9d13e170-78de-4975-b377-6fa263807a65"
      },
      "execution_count": 26,
      "outputs": [
        {
          "output_type": "execute_result",
          "data": {
            "text/plain": [
              "(4854, 20)"
            ]
          },
          "metadata": {},
          "execution_count": 26
        }
      ]
    },
    {
      "cell_type": "markdown",
      "source": [
        "Створіть нову таблицю python_data, в якій будуть тільки рядки зі спеціалістами, які вказали мову програмування Python"
      ],
      "metadata": {
        "id": "yPRkKm09VVEQ"
      }
    },
    {
      "cell_type": "code",
      "source": [
        "python_data = tab_fin[tab_fin['Язык.программирования']=='Python']\n",
        "print(python_data['Язык.программирования'])"
      ],
      "metadata": {
        "colab": {
          "base_uri": "https://localhost:8080/"
        },
        "id": "O3SPsF9OVVN-",
        "outputId": "603d0933-a2b3-4fb2-92b8-ea33e8c50caa"
      },
      "execution_count": 27,
      "outputs": [
        {
          "output_type": "stream",
          "name": "stdout",
          "text": [
            "12      Python\n",
            "68      Python\n",
            "87      Python\n",
            "114     Python\n",
            "143     Python\n",
            "         ...  \n",
            "8546    Python\n",
            "8625    Python\n",
            "8635    Python\n",
            "8673    Python\n",
            "8695    Python\n",
            "Name: Язык.программирования, Length: 207, dtype: object\n"
          ]
        }
      ]
    },
    {
      "cell_type": "markdown",
      "source": [
        "Визначте розмір таблиці python_data за допомогою методу shape"
      ],
      "metadata": {
        "id": "3efT8JWVWL0s"
      }
    },
    {
      "cell_type": "code",
      "source": [
        "python_data.shape"
      ],
      "metadata": {
        "colab": {
          "base_uri": "https://localhost:8080/"
        },
        "id": "hLadcfqaWL9D",
        "outputId": "2ea996de-4678-4437-95b6-dafd1eef20b2"
      },
      "execution_count": 28,
      "outputs": [
        {
          "output_type": "execute_result",
          "data": {
            "text/plain": [
              "(207, 20)"
            ]
          },
          "metadata": {},
          "execution_count": 28
        }
      ]
    },
    {
      "cell_type": "markdown",
      "source": [
        "Використовуючи метод groupby, виконайте групування за стовпчиком \"Посада\""
      ],
      "metadata": {
        "id": "OzOtfE_xWXES"
      }
    },
    {
      "cell_type": "code",
      "source": [
        "python_data.groupby(['Должность'])"
      ],
      "metadata": {
        "colab": {
          "base_uri": "https://localhost:8080/"
        },
        "id": "mkJhqaOrWXNp",
        "outputId": "1b008ba9-d135-4071-9f9a-e8135d54b8b9"
      },
      "execution_count": 29,
      "outputs": [
        {
          "output_type": "execute_result",
          "data": {
            "text/plain": [
              "<pandas.core.groupby.generic.DataFrameGroupBy object at 0x7e0a10e02e60>"
            ]
          },
          "metadata": {},
          "execution_count": 29
        }
      ]
    },
    {
      "cell_type": "markdown",
      "source": [
        "Створіть новий DataFrame, де для згрупованих даних за стовпчиком \"Посада\", виконайте агрегацію даних за допомогою методу agg і знайдіть мінімальне та максимальне значення у стовпчику \"Зарплата.в.місяць\""
      ],
      "metadata": {
        "id": "f-YXh4QNdvgY"
      }
    },
    {
      "cell_type": "code",
      "source": [
        "df=python_data.groupby(['Должность'])\n",
        "df['Зарплата.в.месяц'].agg(['min', 'max'])"
      ],
      "metadata": {
        "colab": {
          "base_uri": "https://localhost:8080/",
          "height": 238
        },
        "id": "Nga2Rt8advyp",
        "outputId": "bbdd08ff-1d65-40ba-b112-a0bc29b8ffe7"
      },
      "execution_count": 30,
      "outputs": [
        {
          "output_type": "execute_result",
          "data": {
            "text/plain": [
              "                           min   max\n",
              "Должность                           \n",
              "Junior Software Engineer   100  1250\n",
              "Senior Software Engineer  1300  9200\n",
              "Software Engineer          500  5400\n",
              "System Architect          3000  5000\n",
              "Technical Lead            1425  6200"
            ],
            "text/html": [
              "\n",
              "  <div id=\"df-5a878cb1-a0f1-4ad3-b5c7-984c2826f79b\" class=\"colab-df-container\">\n",
              "    <div>\n",
              "<style scoped>\n",
              "    .dataframe tbody tr th:only-of-type {\n",
              "        vertical-align: middle;\n",
              "    }\n",
              "\n",
              "    .dataframe tbody tr th {\n",
              "        vertical-align: top;\n",
              "    }\n",
              "\n",
              "    .dataframe thead th {\n",
              "        text-align: right;\n",
              "    }\n",
              "</style>\n",
              "<table border=\"1\" class=\"dataframe\">\n",
              "  <thead>\n",
              "    <tr style=\"text-align: right;\">\n",
              "      <th></th>\n",
              "      <th>min</th>\n",
              "      <th>max</th>\n",
              "    </tr>\n",
              "    <tr>\n",
              "      <th>Должность</th>\n",
              "      <th></th>\n",
              "      <th></th>\n",
              "    </tr>\n",
              "  </thead>\n",
              "  <tbody>\n",
              "    <tr>\n",
              "      <th>Junior Software Engineer</th>\n",
              "      <td>100</td>\n",
              "      <td>1250</td>\n",
              "    </tr>\n",
              "    <tr>\n",
              "      <th>Senior Software Engineer</th>\n",
              "      <td>1300</td>\n",
              "      <td>9200</td>\n",
              "    </tr>\n",
              "    <tr>\n",
              "      <th>Software Engineer</th>\n",
              "      <td>500</td>\n",
              "      <td>5400</td>\n",
              "    </tr>\n",
              "    <tr>\n",
              "      <th>System Architect</th>\n",
              "      <td>3000</td>\n",
              "      <td>5000</td>\n",
              "    </tr>\n",
              "    <tr>\n",
              "      <th>Technical Lead</th>\n",
              "      <td>1425</td>\n",
              "      <td>6200</td>\n",
              "    </tr>\n",
              "  </tbody>\n",
              "</table>\n",
              "</div>\n",
              "    <div class=\"colab-df-buttons\">\n",
              "\n",
              "  <div class=\"colab-df-container\">\n",
              "    <button class=\"colab-df-convert\" onclick=\"convertToInteractive('df-5a878cb1-a0f1-4ad3-b5c7-984c2826f79b')\"\n",
              "            title=\"Convert this dataframe to an interactive table.\"\n",
              "            style=\"display:none;\">\n",
              "\n",
              "  <svg xmlns=\"http://www.w3.org/2000/svg\" height=\"24px\" viewBox=\"0 -960 960 960\">\n",
              "    <path d=\"M120-120v-720h720v720H120Zm60-500h600v-160H180v160Zm220 220h160v-160H400v160Zm0 220h160v-160H400v160ZM180-400h160v-160H180v160Zm440 0h160v-160H620v160ZM180-180h160v-160H180v160Zm440 0h160v-160H620v160Z\"/>\n",
              "  </svg>\n",
              "    </button>\n",
              "\n",
              "  <style>\n",
              "    .colab-df-container {\n",
              "      display:flex;\n",
              "      gap: 12px;\n",
              "    }\n",
              "\n",
              "    .colab-df-convert {\n",
              "      background-color: #E8F0FE;\n",
              "      border: none;\n",
              "      border-radius: 50%;\n",
              "      cursor: pointer;\n",
              "      display: none;\n",
              "      fill: #1967D2;\n",
              "      height: 32px;\n",
              "      padding: 0 0 0 0;\n",
              "      width: 32px;\n",
              "    }\n",
              "\n",
              "    .colab-df-convert:hover {\n",
              "      background-color: #E2EBFA;\n",
              "      box-shadow: 0px 1px 2px rgba(60, 64, 67, 0.3), 0px 1px 3px 1px rgba(60, 64, 67, 0.15);\n",
              "      fill: #174EA6;\n",
              "    }\n",
              "\n",
              "    .colab-df-buttons div {\n",
              "      margin-bottom: 4px;\n",
              "    }\n",
              "\n",
              "    [theme=dark] .colab-df-convert {\n",
              "      background-color: #3B4455;\n",
              "      fill: #D2E3FC;\n",
              "    }\n",
              "\n",
              "    [theme=dark] .colab-df-convert:hover {\n",
              "      background-color: #434B5C;\n",
              "      box-shadow: 0px 1px 3px 1px rgba(0, 0, 0, 0.15);\n",
              "      filter: drop-shadow(0px 1px 2px rgba(0, 0, 0, 0.3));\n",
              "      fill: #FFFFFF;\n",
              "    }\n",
              "  </style>\n",
              "\n",
              "    <script>\n",
              "      const buttonEl =\n",
              "        document.querySelector('#df-5a878cb1-a0f1-4ad3-b5c7-984c2826f79b button.colab-df-convert');\n",
              "      buttonEl.style.display =\n",
              "        google.colab.kernel.accessAllowed ? 'block' : 'none';\n",
              "\n",
              "      async function convertToInteractive(key) {\n",
              "        const element = document.querySelector('#df-5a878cb1-a0f1-4ad3-b5c7-984c2826f79b');\n",
              "        const dataTable =\n",
              "          await google.colab.kernel.invokeFunction('convertToInteractive',\n",
              "                                                    [key], {});\n",
              "        if (!dataTable) return;\n",
              "\n",
              "        const docLinkHtml = 'Like what you see? Visit the ' +\n",
              "          '<a target=\"_blank\" href=https://colab.research.google.com/notebooks/data_table.ipynb>data table notebook</a>'\n",
              "          + ' to learn more about interactive tables.';\n",
              "        element.innerHTML = '';\n",
              "        dataTable['output_type'] = 'display_data';\n",
              "        await google.colab.output.renderOutput(dataTable, element);\n",
              "        const docLink = document.createElement('div');\n",
              "        docLink.innerHTML = docLinkHtml;\n",
              "        element.appendChild(docLink);\n",
              "      }\n",
              "    </script>\n",
              "  </div>\n",
              "\n",
              "\n",
              "<div id=\"df-f2d32be0-0053-479a-b854-6d0c6801eed6\">\n",
              "  <button class=\"colab-df-quickchart\" onclick=\"quickchart('df-f2d32be0-0053-479a-b854-6d0c6801eed6')\"\n",
              "            title=\"Suggest charts.\"\n",
              "            style=\"display:none;\">\n",
              "\n",
              "<svg xmlns=\"http://www.w3.org/2000/svg\" height=\"24px\"viewBox=\"0 0 24 24\"\n",
              "     width=\"24px\">\n",
              "    <g>\n",
              "        <path d=\"M19 3H5c-1.1 0-2 .9-2 2v14c0 1.1.9 2 2 2h14c1.1 0 2-.9 2-2V5c0-1.1-.9-2-2-2zM9 17H7v-7h2v7zm4 0h-2V7h2v10zm4 0h-2v-4h2v4z\"/>\n",
              "    </g>\n",
              "</svg>\n",
              "  </button>\n",
              "\n",
              "<style>\n",
              "  .colab-df-quickchart {\n",
              "    background-color: #E8F0FE;\n",
              "    border: none;\n",
              "    border-radius: 50%;\n",
              "    cursor: pointer;\n",
              "    display: none;\n",
              "    fill: #1967D2;\n",
              "    height: 32px;\n",
              "    padding: 0 0 0 0;\n",
              "    width: 32px;\n",
              "  }\n",
              "\n",
              "  .colab-df-quickchart:hover {\n",
              "    background-color: #E2EBFA;\n",
              "    box-shadow: 0px 1px 2px rgba(60, 64, 67, 0.3), 0px 1px 3px 1px rgba(60, 64, 67, 0.15);\n",
              "    fill: #174EA6;\n",
              "  }\n",
              "\n",
              "  [theme=dark] .colab-df-quickchart {\n",
              "    background-color: #3B4455;\n",
              "    fill: #D2E3FC;\n",
              "  }\n",
              "\n",
              "  [theme=dark] .colab-df-quickchart:hover {\n",
              "    background-color: #434B5C;\n",
              "    box-shadow: 0px 1px 3px 1px rgba(0, 0, 0, 0.15);\n",
              "    filter: drop-shadow(0px 1px 2px rgba(0, 0, 0, 0.3));\n",
              "    fill: #FFFFFF;\n",
              "  }\n",
              "</style>\n",
              "\n",
              "  <script>\n",
              "    async function quickchart(key) {\n",
              "      const charts = await google.colab.kernel.invokeFunction(\n",
              "          'suggestCharts', [key], {});\n",
              "    }\n",
              "    (() => {\n",
              "      let quickchartButtonEl =\n",
              "        document.querySelector('#df-f2d32be0-0053-479a-b854-6d0c6801eed6 button');\n",
              "      quickchartButtonEl.style.display =\n",
              "        google.colab.kernel.accessAllowed ? 'block' : 'none';\n",
              "    })();\n",
              "  </script>\n",
              "</div>\n",
              "    </div>\n",
              "  </div>\n"
            ]
          },
          "metadata": {},
          "execution_count": 30
        }
      ]
    },
    {
      "cell_type": "markdown",
      "source": [
        "Створіть функцію fill_avg_salary, яка повертатиме середнє значення заробітної плати на місяць. Використовуйте її для методу apply та створіть новий стовпчик \"avg\"\n"
      ],
      "metadata": {
        "id": "gcaEZZ4xeqzL"
      }
    },
    {
      "cell_type": "code",
      "source": [
        "df_rates = df['Зарплата.в.месяц'].agg(['min', 'max'])\n",
        "def fill_avg_salary(x):\n",
        "    return x.mean()\n",
        "df_rates['avg'] = df_rates.apply(fill_avg_salary, axis=1)\n",
        "print(df_rates)"
      ],
      "metadata": {
        "colab": {
          "base_uri": "https://localhost:8080/"
        },
        "id": "AkLuj_jeerAt",
        "outputId": "4a638f1f-25a3-407a-8b1f-70cff5ab3843"
      },
      "execution_count": 31,
      "outputs": [
        {
          "output_type": "stream",
          "name": "stdout",
          "text": [
            "                           min   max     avg\n",
            "Должность                                   \n",
            "Junior Software Engineer   100  1250   675.0\n",
            "Senior Software Engineer  1300  9200  5250.0\n",
            "Software Engineer          500  5400  2950.0\n",
            "System Architect          3000  5000  4000.0\n",
            "Technical Lead            1425  6200  3812.5\n"
          ]
        }
      ]
    },
    {
      "cell_type": "markdown",
      "source": [
        "Створіть описову статистику за допомогою методу describe для нового стовпчика."
      ],
      "metadata": {
        "id": "2tqzzsRumOwe"
      }
    },
    {
      "cell_type": "code",
      "source": [
        "describe_stats = df_rates['avg'].describe()\n",
        "print(describe_stats)"
      ],
      "metadata": {
        "colab": {
          "base_uri": "https://localhost:8080/"
        },
        "id": "em2GTugOmO-0",
        "outputId": "dc35aec4-5704-4c51-bec9-953b2757ce16"
      },
      "execution_count": 32,
      "outputs": [
        {
          "output_type": "stream",
          "name": "stdout",
          "text": [
            "count       5.000000\n",
            "mean     3337.500000\n",
            "std      1700.091909\n",
            "min       675.000000\n",
            "25%      2950.000000\n",
            "50%      3812.500000\n",
            "75%      4000.000000\n",
            "max      5250.000000\n",
            "Name: avg, dtype: float64\n"
          ]
        }
      ]
    },
    {
      "cell_type": "markdown",
      "source": [
        "Збережіть отриману таблицю в CSV файл"
      ],
      "metadata": {
        "id": "E-SCuBO4mVC1"
      }
    },
    {
      "cell_type": "code",
      "source": [
        "describe_stats.to_csv(\"describe_stats.csv\")"
      ],
      "metadata": {
        "id": "92P5olqVmVMx"
      },
      "execution_count": 20,
      "outputs": []
    }
  ]
}